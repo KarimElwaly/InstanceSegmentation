{
 "cells": [
  {
   "cell_type": "code",
   "execution_count": null,
   "id": "e4842332",
   "metadata": {},
   "outputs": [],
   "source": [
    "import cv2\n",
    "from ultralytics import YOLO\n",
    "from ultralytics.utils.plotting import Annotator, colors\n",
    "\n",
    "model = YOLO(\"yolov8n-seg.pt\")\n",
    "names = model.model.names\n",
    "cap = cv2.VideoCapture(r\"\")\n",
    "\n",
    "out = cv2.VideoWriter('instance-segmentation.avi',\n",
    "                      cv2.VideoWriter_fourcc(*'MJPG'),\n",
    "                      30, (int(cap.get(3)), int(cap.get(4))))\n",
    "\n",
    "while True:\n",
    "    ret, im0 = cap.read()\n",
    "    if not ret:\n",
    "        print(\"Video frame is empty or video processing has been successfully completed.\")\n",
    "        break\n",
    "\n",
    "    results = model.predict(im0)\n",
    "    \n",
    "    if results[0].masks is not None:\n",
    "        clss = results[0].boxes.cls.cpu().tolist()\n",
    "        masks = results[0].masks.xy\n",
    "\n",
    "        annotator = Annotator(im0, line_width=10)\n",
    "\n",
    "        for mask, cls in zip(masks, clss):\n",
    "            annotator.seg_bbox(mask=mask,\n",
    "                               mask_color=colors(int(cls), True),\n",
    "                               det_label=names[int(cls)])\n",
    "    else:\n",
    "        annotator = Annotator(im0, line_width=10)\n",
    "\n",
    "    out.write(im0)\n",
    "    #cv2.imshow(\"instance-segmentation\", im0)\n",
    "\n",
    "    if cv2.waitKey(1) & 0xFF == ord('q'):\n",
    "        break\n",
    "\n",
    "out.release()\n",
    "cap.release()\n",
    "cv2.destroyAllWindows()\n"
   ]
  },
  {
   "cell_type": "code",
   "execution_count": null,
   "id": "9f4121c4",
   "metadata": {},
   "outputs": [],
   "source": []
  }
 ],
 "metadata": {
  "kernelspec": {
   "display_name": "Python 3 (ipykernel)",
   "language": "python",
   "name": "python3"
  },
  "language_info": {
   "codemirror_mode": {
    "name": "ipython",
    "version": 3
   },
   "file_extension": ".py",
   "mimetype": "text/x-python",
   "name": "python",
   "nbconvert_exporter": "python",
   "pygments_lexer": "ipython3",
   "version": "3.11.5"
  }
 },
 "nbformat": 4,
 "nbformat_minor": 5
}
